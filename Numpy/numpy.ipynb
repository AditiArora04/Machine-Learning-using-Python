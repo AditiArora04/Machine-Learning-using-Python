{
 "cells": [
  {
   "cell_type": "code",
   "execution_count": 1,
   "id": "d4c690b3-53fb-45e8-bad2-9b4736fd20bd",
   "metadata": {},
   "outputs": [],
   "source": [
    "import numpy as np"
   ]
  },
  {
   "cell_type": "code",
   "execution_count": 2,
   "id": "f0172487-f899-41b5-b611-dfef3eb6e88d",
   "metadata": {},
   "outputs": [
    {
     "data": {
      "text/plain": [
       "array([1, 2, 3])"
      ]
     },
     "execution_count": 2,
     "metadata": {},
     "output_type": "execute_result"
    }
   ],
   "source": [
    "#1d array\n",
    "a= np.array([1,2,3])\n",
    "a"
   ]
  },
  {
   "cell_type": "code",
   "execution_count": 3,
   "id": "debd427e-e7c2-4bd8-ac11-e3add78f0191",
   "metadata": {},
   "outputs": [
    {
     "data": {
      "text/plain": [
       "array([[1, 2, 3],\n",
       "       [4, 5, 6]])"
      ]
     },
     "execution_count": 3,
     "metadata": {},
     "output_type": "execute_result"
    }
   ],
   "source": [
    "#2d array\n",
    "b=np.array([[1,2,3],[4,5,6]])\n",
    "b"
   ]
  },
  {
   "cell_type": "raw",
   "id": "23102f95-91b6-4f64-8b6f-01b4cb0baff7",
   "metadata": {},
   "source": [
    "# ndim is used to find no of dimension of array"
   ]
  },
  {
   "cell_type": "code",
   "execution_count": 4,
   "id": "ab3f37b5-a74c-455d-8a5f-79849798e289",
   "metadata": {},
   "outputs": [
    {
     "data": {
      "text/plain": [
       "1"
      ]
     },
     "execution_count": 4,
     "metadata": {},
     "output_type": "execute_result"
    }
   ],
   "source": [
    "a.ndim"
   ]
  },
  {
   "cell_type": "code",
   "execution_count": 5,
   "id": "a2667653-e628-465d-9165-fd086c5a4a30",
   "metadata": {},
   "outputs": [
    {
     "data": {
      "text/plain": [
       "2"
      ]
     },
     "execution_count": 5,
     "metadata": {},
     "output_type": "execute_result"
    }
   ],
   "source": [
    "b.ndim"
   ]
  },
  {
   "cell_type": "raw",
   "id": "14a0b23e-7b97-4909-97f0-b69603d6735d",
   "metadata": {},
   "source": [
    "# itemsize is used to calculate byte size of each element"
   ]
  },
  {
   "cell_type": "code",
   "execution_count": 6,
   "id": "8a135c3d-7d19-4e64-9372-a79454c389fd",
   "metadata": {},
   "outputs": [
    {
     "name": "stdout",
     "output_type": "stream",
     "text": [
      "8\n"
     ]
    }
   ],
   "source": [
    "print(a.itemsize)"
   ]
  },
  {
   "cell_type": "raw",
   "id": "14da549a-7787-4c0b-a708-6981af82aad2",
   "metadata": {},
   "source": [
    "#dtype is used to find data type of elements of array"
   ]
  },
  {
   "cell_type": "code",
   "execution_count": 7,
   "id": "62ebfd0d-dd6f-4952-9aa4-7e36a6153975",
   "metadata": {},
   "outputs": [
    {
     "data": {
      "text/plain": [
       "dtype('int64')"
      ]
     },
     "execution_count": 7,
     "metadata": {},
     "output_type": "execute_result"
    }
   ],
   "source": [
    "a.dtype"
   ]
  },
  {
   "cell_type": "raw",
   "id": "fa386b4a-4479-4efd-b0f6-29057076a7d3",
   "metadata": {},
   "source": [
    "#size is used to count no of elements in array"
   ]
  },
  {
   "cell_type": "code",
   "execution_count": 8,
   "id": "b2b8de90-d639-4038-a6ed-00ecd17c3158",
   "metadata": {},
   "outputs": [
    {
     "data": {
      "text/plain": [
       "3"
      ]
     },
     "execution_count": 8,
     "metadata": {},
     "output_type": "execute_result"
    }
   ],
   "source": [
    "a.size"
   ]
  },
  {
   "cell_type": "code",
   "execution_count": 9,
   "id": "23fb923e-f12b-4968-9aae-c570ddf1b9f5",
   "metadata": {},
   "outputs": [
    {
     "data": {
      "text/plain": [
       "6"
      ]
     },
     "execution_count": 9,
     "metadata": {},
     "output_type": "execute_result"
    }
   ],
   "source": [
    "b.size"
   ]
  },
  {
   "cell_type": "raw",
   "id": "97c313ad-59cc-4c1f-8708-dcbc9c11811e",
   "metadata": {},
   "source": [
    "#shape is used to count no of rows and columns in array"
   ]
  },
  {
   "cell_type": "code",
   "execution_count": 10,
   "id": "1c819d31-700e-495a-a676-0ffb36fe01a4",
   "metadata": {},
   "outputs": [
    {
     "data": {
      "text/plain": [
       "(3,)"
      ]
     },
     "execution_count": 10,
     "metadata": {},
     "output_type": "execute_result"
    }
   ],
   "source": [
    "a.shape"
   ]
  },
  {
   "cell_type": "code",
   "execution_count": 11,
   "id": "b213eba7-560c-4010-962b-a4392a6644f7",
   "metadata": {},
   "outputs": [
    {
     "data": {
      "text/plain": [
       "(2, 3)"
      ]
     },
     "execution_count": 11,
     "metadata": {},
     "output_type": "execute_result"
    }
   ],
   "source": [
    "b.shape"
   ]
  },
  {
   "cell_type": "raw",
   "id": "86c0d857-3b69-411a-a9d4-64e0c03ba8e6",
   "metadata": {},
   "source": [
    "#reshape func is usedd to change shape of array or we can change rows -> column, column -> row"
   ]
  },
  {
   "cell_type": "code",
   "execution_count": 12,
   "id": "c7a1bb1d-9360-482c-8575-4dbfafe1d41c",
   "metadata": {},
   "outputs": [
    {
     "data": {
      "text/plain": [
       "array([[1, 2],\n",
       "       [3, 4],\n",
       "       [5, 6]])"
      ]
     },
     "execution_count": 12,
     "metadata": {},
     "output_type": "execute_result"
    }
   ],
   "source": [
    "c=b.reshape(3,2)\n",
    "c"
   ]
  },
  {
   "cell_type": "code",
   "execution_count": 13,
   "id": "ce24757e-840d-4240-ba74-794595d91875",
   "metadata": {},
   "outputs": [],
   "source": [
    "#arange() func is used to create an array of nos in a given range"
   ]
  },
  {
   "cell_type": "code",
   "execution_count": 14,
   "id": "e17a13f1-5943-4c88-84ae-1296e3371929",
   "metadata": {},
   "outputs": [
    {
     "data": {
      "text/plain": [
       "array([1, 2, 3, 4])"
      ]
     },
     "execution_count": 14,
     "metadata": {},
     "output_type": "execute_result"
    }
   ],
   "source": [
    "a1=np.arange(1,5)\n",
    "a1"
   ]
  },
  {
   "cell_type": "code",
   "execution_count": 15,
   "id": "8d196565-0162-4e07-a6d8-8de24d400857",
   "metadata": {},
   "outputs": [
    {
     "data": {
      "text/plain": [
       "array([[ 1,  2,  3,  4,  5],\n",
       "       [ 6,  7,  8,  9, 10]])"
      ]
     },
     "execution_count": 15,
     "metadata": {},
     "output_type": "execute_result"
    }
   ],
   "source": [
    "a2=np.arange(1,11).reshape(2,5)\n",
    "a2"
   ]
  },
  {
   "cell_type": "code",
   "execution_count": 16,
   "id": "46019b29-0cd9-4e93-ad1c-397713da7a4d",
   "metadata": {},
   "outputs": [],
   "source": [
    "#ones() func is used to generate matrix of 1's\n",
    "#zeros() is used to create matrix of 0's"
   ]
  },
  {
   "cell_type": "code",
   "execution_count": 17,
   "id": "466c2a32-7b83-431b-b002-7052fd2c0e60",
   "metadata": {},
   "outputs": [
    {
     "data": {
      "text/plain": [
       "array([[1, 1, 1, 1],\n",
       "       [1, 1, 1, 1]], dtype=int32)"
      ]
     },
     "execution_count": 17,
     "metadata": {},
     "output_type": "execute_result"
    }
   ],
   "source": [
    "a3=np.ones((2,4)).astype(np.int32)\n",
    "a3"
   ]
  },
  {
   "cell_type": "code",
   "execution_count": 18,
   "id": "a4688320-2add-4ea9-9907-2b11789af808",
   "metadata": {},
   "outputs": [
    {
     "data": {
      "text/plain": [
       "array([[0, 0, 0],\n",
       "       [0, 0, 0],\n",
       "       [0, 0, 0]], dtype=int32)"
      ]
     },
     "execution_count": 18,
     "metadata": {},
     "output_type": "execute_result"
    }
   ],
   "source": [
    "a4=np.zeros((3,3)).astype(np.int32) \n",
    "a4"
   ]
  },
  {
   "cell_type": "raw",
   "id": "528a70d4-174f-4c79-b857-975adae99456",
   "metadata": {},
   "source": [
    "#identity() func is used to create identity matrix"
   ]
  },
  {
   "cell_type": "code",
   "execution_count": 19,
   "id": "f67f2af1-f077-44a6-bfe3-42ca8f0fa53e",
   "metadata": {},
   "outputs": [
    {
     "data": {
      "text/plain": [
       "array([[1, 0, 0],\n",
       "       [0, 1, 0],\n",
       "       [0, 0, 1]], dtype=int32)"
      ]
     },
     "execution_count": 19,
     "metadata": {},
     "output_type": "execute_result"
    }
   ],
   "source": [
    "a5=np.identity(3).astype(np.int32)\n",
    "a5"
   ]
  },
  {
   "cell_type": "code",
   "execution_count": null,
   "id": "8c136eee-8a04-46d5-90dc-a37510581c52",
   "metadata": {},
   "outputs": [],
   "source": []
  }
 ],
 "metadata": {
  "kernelspec": {
   "display_name": "Python 3 (ipykernel)",
   "language": "python",
   "name": "python3"
  },
  "language_info": {
   "codemirror_mode": {
    "name": "ipython",
    "version": 3
   },
   "file_extension": ".py",
   "mimetype": "text/x-python",
   "name": "python",
   "nbconvert_exporter": "python",
   "pygments_lexer": "ipython3",
   "version": "3.13.1"
  }
 },
 "nbformat": 4,
 "nbformat_minor": 5
}
